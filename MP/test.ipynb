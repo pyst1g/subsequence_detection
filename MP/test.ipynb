{
 "cells": [
  {
   "cell_type": "code",
   "execution_count": 266,
   "metadata": {},
   "outputs": [],
   "source": [
    "%matplotlib inline\n",
    "\n",
    "import glob\n",
    "import numpy as np\n",
    "import matplotlib.pyplot as plt\n",
    "import pandas as pd\n",
    "import time\n",
    "\n",
    "from collections import deque\n",
    "from matrixprofile import *\n",
    "from scipy.stats import zscore"
   ]
  },
  {
   "cell_type": "code",
   "execution_count": 267,
   "metadata": {},
   "outputs": [],
   "source": [
    "#dequeを更新\n",
    "def update_deq(deq, val, ind):\n",
    "    # 先端を削除するべきか判定・処理\n",
    "    if deq[0][1] == ind - deq.maxlen:\n",
    "        deq.popleft()\n",
    "    # 要素を追加\n",
    "    while(len(deq) != 0):\n",
    "        if val <= deq[len(deq)-1][0]:\n",
    "            deq.pop()\n",
    "        else: \n",
    "            break\n",
    "    deq.append((val,ind))\n",
    "#     add_deq(deq, val, ind)\n",
    "\n",
    "#dequeに要素を追加\n",
    "def add_deq(deq, val, ind):\n",
    "    while(len(deq) != 0):\n",
    "        if val <= deq[len(deq)-1][0]:\n",
    "            deq.pop()\n",
    "        else: \n",
    "            break\n",
    "    deq.append((val,ind))\n",
    "\n",
    "#distance profileの集合からMPdistベクトルを計算\n",
    "def calcMPdistvec_by_DistanceProfile(DPs):\n",
    "    \n",
    "    row_num, col_num = DPs.shape \n",
    "    MatrixProfile_BA = np.min(np.asarray(DPs), axis=0)\n",
    "    MPdistvec = np.zeros(col_num - row_num + 1)\n",
    "    deques = list()\n",
    "    for row in range(row_num):\n",
    "        deques.append(deque(maxlen=row_num))\n",
    "        for col in range(row_num-1):\n",
    "            add_deq(deques[row], DPs[row][col], col)\n",
    "    \n",
    "    start = time.time()\n",
    "    temp_profile_AB = np.zeros(row_num, dtype='float64')\n",
    "    for col in range(col_num - row_num + 1):        \n",
    "        for row in range(row_num):\n",
    "\n",
    "            update_deq(deques[row], DPs[row][col + (row_num-1)], col + (row_num-1))\n",
    "            temp_profile_AB[row] = deques[row][0][0]\n",
    "        #ソートしてthrでぶちこむ\n",
    "        MPdistvec[col] = np.sort(np.concatenate([temp_profile_AB, MatrixProfile_BA[col:col + row_num]]))[0]\n",
    "    print(\"slidemin_time = \", time.time()-start)\n",
    "    return MPdistvec\n",
    "\n",
    "# MPdistvecを計算\n",
    "# query:クエリ時系列\n",
    "# ts:時系列\n",
    "# m:MPdictのパラメータ(部分時系列長)\n",
    "def calcMPdistvec(query, ts, m):\n",
    "    disP = []\n",
    "    for i in range(len(query)-m+1):\n",
    "        disP.append(matrixProfile.distanceProfile.massDistanceProfile(query,i,m,ts)[0])\n",
    "    disP = np.asarray(disP)\n",
    "    return calcMPdistvec_by_DistanceProfile(disP)"
   ]
  },
  {
   "cell_type": "code",
   "execution_count": null,
   "metadata": {},
   "outputs": [
    {
     "name": "stdout",
     "output_type": "stream",
     "text": [
      "time series length =  5000\n",
      "slidemin_time =  0.7749946117401123\n",
      "total time =  0.9413080215454102\n",
      "\n",
      "time series length =  10000\n",
      "slidemin_time =  1.5749013423919678\n",
      "total time =  1.7860445976257324\n",
      "\n",
      "time series length =  15000\n",
      "slidemin_time =  2.3691084384918213\n",
      "total time =  2.5103397369384766\n",
      "\n",
      "time series length =  20000\n",
      "slidemin_time =  3.2174062728881836\n",
      "total time =  3.385806083679199\n",
      "\n",
      "time series length =  25000\n",
      "slidemin_time =  4.0142822265625\n",
      "total time =  4.206480026245117\n",
      "\n",
      "time series length =  30000\n",
      "slidemin_time =  4.803378343582153\n",
      "total time =  5.041051387786865\n",
      "\n",
      "time series length =  35000\n",
      "slidemin_time =  5.6142494678497314\n",
      "total time =  5.875856637954712\n",
      "\n",
      "time series length =  40000\n",
      "slidemin_time =  6.397276878356934\n",
      "total time =  6.6861395835876465\n",
      "\n",
      "time series length =  45000\n",
      "slidemin_time =  7.213687896728516\n",
      "total time =  7.5529398918151855\n",
      "\n",
      "time series length =  50000\n",
      "slidemin_time =  8.065760850906372\n",
      "total time =  8.504289865493774\n",
      "\n",
      "time series length =  55000\n",
      "slidemin_time =  8.807659387588501\n",
      "total time =  9.275461673736572\n",
      "\n",
      "time series length =  60000\n",
      "slidemin_time =  9.654613494873047\n",
      "total time =  10.1578209400177\n",
      "\n",
      "time series length =  65000\n",
      "slidemin_time =  10.55023193359375\n",
      "total time =  11.094402551651001\n",
      "\n",
      "time series length =  70000\n",
      "slidemin_time =  11.197398662567139\n",
      "total time =  11.75043272972107\n",
      "\n",
      "time series length =  75000\n",
      "slidemin_time =  12.066629648208618\n",
      "total time =  12.585983276367188\n",
      "\n",
      "time series length =  80000\n",
      "slidemin_time =  12.983280181884766\n",
      "total time =  13.507048606872559\n",
      "\n",
      "time series length =  85000\n"
     ]
    }
   ],
   "source": [
    "tm = list()\n",
    "for i in range(5000,100001,5000):\n",
    "    print(\"time series length = \", i)\n",
    "    start = time.time()\n",
    "    MPdistvect = calcMPdistvec(a[500:700],a[:i],60)\n",
    "    tm.append(time.time()-start)\n",
    "    print(\"total time = \", tm[len(tm)-1]) \n",
    "    print()"
   ]
  },
  {
   "cell_type": "code",
   "execution_count": null,
   "metadata": {},
   "outputs": [],
   "source": [
    "plt.plot(np.linspace(5000,100000,20),tm)"
   ]
  },
  {
   "cell_type": "markdown",
   "metadata": {},
   "source": [
    "Matrix Profileが最小値を取るペアを発見する"
   ]
  },
  {
   "cell_type": "code",
   "execution_count": null,
   "metadata": {},
   "outputs": [],
   "source": [
    "def find_minimum_pair(MatP, MatPind):\n",
    "    minpair = np.unique(np.union1d(np.where(MatP == MatP.min()), MatPind[np.where(MatP == MatP.min())]))\n",
    "    minpair = minpair.astype('int')\n",
    "    return minpair"
   ]
  },
  {
   "cell_type": "markdown",
   "metadata": {},
   "source": [
    "## 人工データ"
   ]
  },
  {
   "cell_type": "code",
   "execution_count": null,
   "metadata": {},
   "outputs": [],
   "source": [
    "trace = np.asarray(pd.read_csv('../Datasets/UCR_TS_Archive_2015/Trace/Trace_TRAIN'))\n",
    "t = np.concatenate((trace[2][100:200],trace[12][100:300]))\n",
    "plt.plot(t)\n",
    "plt.show()\n",
    "mpt, mptindex = matrixProfile.stomp(t,30)\n",
    "plt.plot(mpt)\n",
    "plt.show()"
   ]
  },
  {
   "cell_type": "code",
   "execution_count": null,
   "metadata": {},
   "outputs": [],
   "source": [
    "si = np.sin(np.linspace(0,4*np.pi,60))\n",
    "plt.plot(si)"
   ]
  },
  {
   "cell_type": "code",
   "execution_count": null,
   "metadata": {},
   "outputs": [],
   "source": [
    "plt.plot(t)\n",
    "plt.show()"
   ]
  },
  {
   "cell_type": "code",
   "execution_count": null,
   "metadata": {},
   "outputs": [],
   "source": [
    "m = 30 #distance profileのクエリの長さ\n",
    "disP = []\n",
    "for i in range(len(si)-m+1):\n",
    "    disP.append(matrixProfile.distanceProfile.massDistanceProfile(si,i,m,t)[0])\n",
    "disP = np.asarray(disP)\n"
   ]
  },
  {
   "cell_type": "code",
   "execution_count": null,
   "metadata": {},
   "outputs": [],
   "source": [
    "plt.plot(si)\n",
    "plt.plot(t)\n",
    "plt.plot(calcMPdistvec_by_DistanceProfile(disP))"
   ]
  },
  {
   "cell_type": "code",
   "execution_count": null,
   "metadata": {},
   "outputs": [],
   "source": [
    "a = np.concatenate([disP[:,:31],disP[:,:31].T], axis=0)"
   ]
  },
  {
   "cell_type": "code",
   "execution_count": null,
   "metadata": {},
   "outputs": [],
   "source": [
    "plt.plot(a.min(axis=1).T)\n",
    "plt.show()"
   ]
  },
  {
   "cell_type": "code",
   "execution_count": null,
   "metadata": {},
   "outputs": [],
   "source": [
    "MPdistvect = calcMPdistvec_by_DistanceProfile(disP)"
   ]
  },
  {
   "cell_type": "code",
   "execution_count": null,
   "metadata": {
    "scrolled": true
   },
   "outputs": [],
   "source": [
    "MPdistvect = calcMPdistvec_by_DistanceProfile(disP)\n",
    "\n",
    "for st in range(MPdistvect.shape[0]):\n",
    "    di1 = disP[:,st:st + 31].min(axis=0)\n",
    "    di2 = disP[:,st:st + 31].min(axis=1)\n",
    "#     plt.plot(di1)\n",
    "#     plt.plot(di2)\n",
    "    print(min(di1.min(),di2.min()) - MPdistvect[st])"
   ]
  },
  {
   "cell_type": "markdown",
   "metadata": {},
   "source": [
    "## 線虫"
   ]
  },
  {
   "cell_type": "code",
   "execution_count": null,
   "metadata": {},
   "outputs": [],
   "source": [
    "m = 60 # MatrixProfileの部分時系列の長さ\n",
    "topN = 100000 # 線虫の頭何個使うか"
   ]
  },
  {
   "cell_type": "markdown",
   "metadata": {},
   "source": [
    "データ呼び出し"
   ]
  },
  {
   "cell_type": "code",
   "execution_count": null,
   "metadata": {},
   "outputs": [],
   "source": [
    "filenames1 = glob.glob(\"../Datasets/worm1/*f4\")\n",
    "filenames1.sort()\n",
    "np.random.seed(0)\n",
    "a = np.fromfile(filenames1[53],'f4')[:topN] - 10e-4*np.random.randn(topN)\n",
    "a_nonoise = np.fromfile(filenames1[53],'f4')[:topN]\n",
    "plt.plot(a)\n",
    "plt.show()"
   ]
  },
  {
   "cell_type": "code",
   "execution_count": null,
   "metadata": {},
   "outputs": [],
   "source": [
    "%%time\n",
    "MPdistvect = calcMPdistvec(a[500:700],a,60)"
   ]
  },
  {
   "cell_type": "code",
   "execution_count": null,
   "metadata": {},
   "outputs": [],
   "source": [
    "plt.plot(MPdistvect)"
   ]
  },
  {
   "cell_type": "code",
   "execution_count": null,
   "metadata": {},
   "outputs": [],
   "source": [
    "# a[3300:3500] += 30 * np.sin(np.linspace(0,2*np.pi,200))\n",
    "# a[4500:4700] += 30 * np.sin(np.linspace(0,2*np.pi,200))\n",
    "# a[5300:5500] += 30 * np.sin(np.linspace(0,2*np.pi,200))"
   ]
  },
  {
   "cell_type": "code",
   "execution_count": null,
   "metadata": {},
   "outputs": [],
   "source": [
    "MP, MPind = matrixProfile.stomp(a,m)\n",
    "MPind = MPind.astype('int')"
   ]
  },
  {
   "cell_type": "markdown",
   "metadata": {},
   "source": [
    "0の数に対するAV"
   ]
  },
  {
   "cell_type": "code",
   "execution_count": null,
   "metadata": {},
   "outputs": [],
   "source": [
    "AV_zero = np.zeros_like(MP)\n",
    "\n",
    "for i,_ in enumerate(AV_zero):\n",
    "    AV_zero[i] = np.sum(a_nonoise[i:i+m]==0)\n",
    "\n",
    "AV_zero -= min(AV_zero)\n",
    "AV_zero /= max(AV_zero)\n",
    "\n",
    "AV_zero = 1 - AV_zero\n",
    "\n",
    "MP_zero = MP + (1-AV_zero) * MP.max()\n",
    "\n",
    "plt.subplot(2,1,1)\n",
    "plt.plot(MP)\n",
    "plt.title(\"original\")\n",
    "\n",
    "plt.subplot(2,1,2)\n",
    "plt.plot(MP_zero)\n",
    "plt.title(\"Annotated\")\n",
    "\n",
    "plt.tight_layout()\n",
    "plt.show()"
   ]
  },
  {
   "cell_type": "markdown",
   "metadata": {},
   "source": [
    "複雑さに対する　AV"
   ]
  },
  {
   "cell_type": "code",
   "execution_count": null,
   "metadata": {},
   "outputs": [],
   "source": [
    "plt.plot(a[0:30])"
   ]
  },
  {
   "cell_type": "code",
   "execution_count": null,
   "metadata": {},
   "outputs": [],
   "source": [
    "AV_comp = np.zeros_like(MP)\n",
    "\n",
    "for i,_ in enumerate(AV_comp):\n",
    "    AV_comp[i] = np.sqrt(np.sum(np.diff(zscore(a[i:i+m]))**2))\n",
    "    \n",
    "AV_comp -= min(AV_comp)\n",
    "AV_comp /= max(AV_comp)\n",
    "\n",
    "MP_comp = MP + (1-AV_comp) * MP.max()\n",
    "\n",
    "plt.subplot(2,1,1)\n",
    "plt.plot(MP)\n",
    "plt.title(\"original\")\n",
    "\n",
    "plt.subplot(2,1,2)\n",
    "plt.plot(MP_comp)\n",
    "plt.title(\"Annotated\")\n",
    "\n",
    "plt.tight_layout()\n",
    "plt.show()"
   ]
  },
  {
   "cell_type": "markdown",
   "metadata": {},
   "source": [
    "合成"
   ]
  },
  {
   "cell_type": "code",
   "execution_count": null,
   "metadata": {},
   "outputs": [],
   "source": [
    "AV_sum = AV_zero + AV_comp\n",
    "AV_sum -= min(AV_sum)\n",
    "AV_sum /= max(AV_sum)\n",
    "\n",
    "MP_sum = MP + (1-AV_sum) * MP.max()\n",
    "\n",
    "plt.subplot(2,1,1)\n",
    "plt.plot(MP)\n",
    "plt.title(\"original\")\n",
    "\n",
    "plt.subplot(2,1,2)\n",
    "plt.plot(MP_sum)\n",
    "plt.title(\"Annotated\")\n",
    "\n",
    "plt.tight_layout()\n",
    "plt.show()"
   ]
  },
  {
   "cell_type": "code",
   "execution_count": null,
   "metadata": {},
   "outputs": [],
   "source": [
    "plt.plot(a)"
   ]
  },
  {
   "cell_type": "code",
   "execution_count": null,
   "metadata": {},
   "outputs": [],
   "source": [
    "mindex = find_minimum_pair(MP_sum,MPind)\n",
    "plt.plot(zscore(a[mindex[0]:mindex[0]+m]))\n",
    "plt.plot(zscore(a[mindex[1]:mindex[1]+m]))\n",
    "plt.show()"
   ]
  },
  {
   "cell_type": "code",
   "execution_count": null,
   "metadata": {},
   "outputs": [],
   "source": [
    "find_minimum_pair(MP_comp,MPind)\n",
    "plt.plot(zscore(a[mindex[0]:mindex[0]+m]))\n",
    "plt.plot(zscore(a[mindex[1]:mindex[1]+m]))\n",
    "plt.show()"
   ]
  },
  {
   "cell_type": "code",
   "execution_count": null,
   "metadata": {},
   "outputs": [],
   "source": [
    "find_minimum_pair(MP,MPind)\n",
    "plt.plot(zscore(a[mindex[0]:mindex[0]+m]))\n",
    "plt.plot(zscore(a[mindex[1]:mindex[1]+m]))\n",
    "plt.show()"
   ]
  },
  {
   "cell_type": "code",
   "execution_count": null,
   "metadata": {},
   "outputs": [],
   "source": [
    "plt.plot(MP)\n",
    "plt.show()"
   ]
  },
  {
   "cell_type": "code",
   "execution_count": null,
   "metadata": {},
   "outputs": [],
   "source": [
    "mindex = find_minimum_pair(MP_sum,MPind)\n",
    "plt.plot(zscore(a[mindex[0]:mindex[0]+m]))\n",
    "plt.plot(zscore(a[mindex[1]:mindex[1]+m]))\n",
    "plt.show()"
   ]
  },
  {
   "cell_type": "code",
   "execution_count": null,
   "metadata": {},
   "outputs": [],
   "source": [
    "plt.plot((a[mindex[0]-50:mindex[0]+m+50]))\n",
    "# plt.plot((a[mindex[1]:mindex[1]+m]))"
   ]
  },
  {
   "cell_type": "code",
   "execution_count": null,
   "metadata": {},
   "outputs": [],
   "source": [
    "mindex = find_minimum_pair(MP_zero, MPind)\n",
    "plt.plot(zscore(a[mindex[0]:mindex[0]+m]))\n",
    "plt.plot(zscore(a[mindex[1]:mindex[1]+m]))\n",
    "plt.show()"
   ]
  },
  {
   "cell_type": "code",
   "execution_count": null,
   "metadata": {},
   "outputs": [],
   "source": [
    "a[mindex[0]:mindex[0]+m]"
   ]
  },
  {
   "cell_type": "code",
   "execution_count": null,
   "metadata": {},
   "outputs": [],
   "source": [
    "focus = np.array([502,795,2729,4753])\n",
    "focus_pair = MPind[focus]\n",
    "for i, (f, fp) in enumerate(zip(focus,focus_pair)):\n",
    "    plt.subplot(2,2,i+1)\n",
    "    plt.plot(zscore(a[f:f+m]))\n",
    "    plt.plot(zscore(a[fp:fp+m]))\n",
    "plt.show()\n",
    "\n",
    "\n",
    "print('f  = ', focus)\n",
    "print('fp = ', focus_pair)\n",
    "print('dist = ', MP[focus])"
   ]
  },
  {
   "cell_type": "code",
   "execution_count": null,
   "metadata": {},
   "outputs": [],
   "source": [
    "mindex = find_minimum_pair(MP,MPind)"
   ]
  },
  {
   "cell_type": "code",
   "execution_count": null,
   "metadata": {},
   "outputs": [],
   "source": [
    "mindex"
   ]
  },
  {
   "cell_type": "code",
   "execution_count": null,
   "metadata": {},
   "outputs": [],
   "source": [
    "np.linalg.norm(zscore(a[mindex[0]:mindex[0]+m]) - zscore(a[mindex[1]:mindex[1]+m]))"
   ]
  },
  {
   "cell_type": "code",
   "execution_count": null,
   "metadata": {},
   "outputs": [],
   "source": [
    "plt.plot(zscore(a[mindex[0]:mindex[0]+m]))\n",
    "plt.plot(zscore(a[mindex[1]:mindex[1]+m]))\n",
    "plt.show()"
   ]
  },
  {
   "cell_type": "code",
   "execution_count": null,
   "metadata": {},
   "outputs": [],
   "source": [
    "plt.plot(a[3059:3259])"
   ]
  },
  {
   "cell_type": "code",
   "execution_count": null,
   "metadata": {},
   "outputs": [],
   "source": [
    "plt.plot(AV_comp[3059:3259])\n",
    "plt.show()"
   ]
  },
  {
   "cell_type": "code",
   "execution_count": null,
   "metadata": {},
   "outputs": [],
   "source": [
    "plt.plot(MP)\n",
    "plt.show()"
   ]
  },
  {
   "cell_type": "code",
   "execution_count": null,
   "metadata": {},
   "outputs": [],
   "source": [
    "plt.plot(a[2483:2683])"
   ]
  },
  {
   "cell_type": "code",
   "execution_count": null,
   "metadata": {},
   "outputs": [],
   "source": []
  },
  {
   "cell_type": "code",
   "execution_count": null,
   "metadata": {},
   "outputs": [],
   "source": []
  },
  {
   "cell_type": "code",
   "execution_count": null,
   "metadata": {},
   "outputs": [],
   "source": []
  },
  {
   "cell_type": "code",
   "execution_count": null,
   "metadata": {},
   "outputs": [],
   "source": []
  },
  {
   "cell_type": "code",
   "execution_count": null,
   "metadata": {},
   "outputs": [],
   "source": []
  }
 ],
 "metadata": {
  "kernelspec": {
   "display_name": "kenkyu",
   "language": "python",
   "name": "kenkyu"
  },
  "language_info": {
   "codemirror_mode": {
    "name": "ipython",
    "version": 3
   },
   "file_extension": ".py",
   "mimetype": "text/x-python",
   "name": "python",
   "nbconvert_exporter": "python",
   "pygments_lexer": "ipython3",
   "version": "3.7.2"
  }
 },
 "nbformat": 4,
 "nbformat_minor": 2
}
